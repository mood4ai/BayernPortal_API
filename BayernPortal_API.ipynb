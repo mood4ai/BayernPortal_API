{
 "cells": [
  {
   "cell_type": "code",
   "execution_count": 3,
   "metadata": {},
   "outputs": [],
   "source": [
    "import requests\n",
    "from bs4 import BeautifulSoup"
   ]
  },
  {
   "cell_type": "markdown",
   "metadata": {},
   "source": [
    "# 1. getting the right url"
   ]
  },
  {
   "cell_type": "code",
   "execution_count": 4,
   "metadata": {},
   "outputs": [],
   "source": [
    "def get_service_url(service):\n",
    "    \"\"\"\n",
    "    returns the webside were the information about service is stored\n",
    "    \"\"\"\n",
    "    url = \"https://www.freistaat.bayern/suche/leistung/alphabetisch/Alle\"\n",
    "    response = requests.get(url)\n",
    "    soup = BeautifulSoup(response.text)\n",
    "    leist = {}\n",
    "    for i in soup.findAll('li', {'class': 'int'}):\n",
    "        leist[i.a.text] = \"https://www.freistaat.bayern\"+i.find('a')['href']\n",
    "        \n",
    "    return leist[service]\n",
    "    \n",
    "    "
   ]
  },
  {
   "cell_type": "code",
   "execution_count": 5,
   "metadata": {
    "scrolled": true
   },
   "outputs": [
    {
     "data": {
      "text/plain": [
       "'https://www.freistaat.bayern/dokumente/leistung/48887380325'"
      ]
     },
     "execution_count": 5,
     "metadata": {},
     "output_type": "execute_result"
    }
   ],
   "source": [
    "# get_seervice_url(<Leistung>)\n",
    "get_service_url(\"Bauantrag; Einreichung\")"
   ]
  },
  {
   "cell_type": "markdown",
   "metadata": {},
   "source": [
    "# 2. getting a list of available information about a service"
   ]
  },
  {
   "cell_type": "code",
   "execution_count": 6,
   "metadata": {},
   "outputs": [],
   "source": [
    "def get_infolist(service):\n",
    "    \"\"\"\n",
    "    returns list of available informations about a service\n",
    "    \"\"\"\n",
    "    url = get_service_url(service)\n",
    "    response = requests.get(url)\n",
    "    soup = BeautifulSoup(response.text)\n",
    "    \n",
    "    # getting the info-topic\n",
    "    \n",
    "    topic = []\n",
    "    count_1 = 0\n",
    "    for h in soup.findAll(\"h3\"):\n",
    "        count_1 +=1\n",
    "        topic.append(h.text.strip())\n",
    "    \n",
    "    topic = topic[1:-2]\n",
    "    \n",
    "    return topic"
   ]
  },
  {
   "cell_type": "code",
   "execution_count": 7,
   "metadata": {
    "scrolled": true
   },
   "outputs": [
    {
     "data": {
      "text/plain": [
       "['Beschreibung',\n",
       " 'Erforderliche Unterlagen',\n",
       " 'Formulare',\n",
       " 'Kosten',\n",
       " 'Rechtsgrundlagen',\n",
       " 'Weiterführende Links',\n",
       " 'Verwandte Themen']"
      ]
     },
     "execution_count": 7,
     "metadata": {},
     "output_type": "execute_result"
    }
   ],
   "source": [
    "# get_infolist(<Leistung>)\n",
    "get_infolist(\"Bauantrag; Einreichung\")"
   ]
  },
  {
   "cell_type": "markdown",
   "metadata": {},
   "source": [
    "# 3. getting information about a certain topic of a service"
   ]
  },
  {
   "cell_type": "code",
   "execution_count": 8,
   "metadata": {},
   "outputs": [],
   "source": [
    "def get_service_info(service, info):\n",
    "    \"\"\"\n",
    "    returns an infos on a certain service like \n",
    "    \"Beschrebung\", \n",
    "    \"Voraussetzungen\",\n",
    "    \"Erforderliche Unterlagen\"\n",
    "    \"Kosten\"\n",
    "    \"\"\"\n",
    "    url = get_service_url(service)\n",
    "    response = requests.get(url)\n",
    "    soup = BeautifulSoup(response.text)\n",
    "    \n",
    "    # getting the info-topic\n",
    "    \n",
    "    topic = []\n",
    "    count_1 = 0\n",
    "    for h in soup.findAll(\"h3\"):\n",
    "        count_1 +=1\n",
    "        topic.append(h.text.strip())\n",
    "    \n",
    "    topic = topic[1:-2]\n",
    "\n",
    "\n",
    "    #getting the text of the content\n",
    "    list_cont=[]\n",
    "    count = 0\n",
    "    for div in soup.findAll('div', {'class': 'content-block'}):\n",
    "        count += 1\n",
    "        list_cont.append(div.text.strip())\n",
    "    \n",
    "    content = list_cont[1:-2]\n",
    "\n",
    "    \n",
    "    \n",
    "    # fusion of info-topic and text content\n",
    "    dictionary = dict(zip(topic, content))\n",
    "\n",
    "\n",
    "    return dictionary[info]"
   ]
  },
  {
   "cell_type": "code",
   "execution_count": 9,
   "metadata": {},
   "outputs": [
    {
     "data": {
      "text/plain": [
       "'keine'"
      ]
     },
     "execution_count": 9,
     "metadata": {},
     "output_type": "execute_result"
    }
   ],
   "source": [
    "get_service_info(\"Alphabetisierungskurse für Asylsuchende; Beantragung einer Förderung\", \"Kosten\")"
   ]
  },
  {
   "cell_type": "code",
   "execution_count": 10,
   "metadata": {
    "scrolled": true
   },
   "outputs": [
    {
     "data": {
      "text/plain": [
       "['Beschreibung',\n",
       " 'Erforderliche Unterlagen',\n",
       " 'Formulare',\n",
       " 'Kosten',\n",
       " 'Rechtsgrundlagen',\n",
       " 'Weiterführende Links',\n",
       " 'Verwandte Themen']"
      ]
     },
     "execution_count": 10,
     "metadata": {},
     "output_type": "execute_result"
    }
   ],
   "source": [
    "get_infolist(\"Bauantrag; Einreichung\")"
   ]
  },
  {
   "cell_type": "code",
   "execution_count": 11,
   "metadata": {
    "scrolled": true
   },
   "outputs": [
    {
     "data": {
      "text/plain": [
       "'Die Gebühren für eine Baugenehmigung betragen je nach Art des Bauvorhabens und Art des Genehmigungsverfahrens zwischen\\xa01 v. T. und 4 v. T. der Baukosten. (Reduzierte) Gebühren werden auch erhoben, wenn ein Bauantrag abgelehnt oder zurückgenommen wird.'"
      ]
     },
     "execution_count": 11,
     "metadata": {},
     "output_type": "execute_result"
    }
   ],
   "source": [
    "# get_service_info(<Leistung>, <konkrete Information>)\n",
    "get_service_info(\"Bauantrag; Einreichung\", \"Kosten\")"
   ]
  },
  {
   "cell_type": "code",
   "execution_count": null,
   "metadata": {},
   "outputs": [],
   "source": []
  }
 ],
 "metadata": {
  "kernelspec": {
   "display_name": "Python 3",
   "language": "python",
   "name": "python3"
  },
  "language_info": {
   "codemirror_mode": {
    "name": "ipython",
    "version": 3
   },
   "file_extension": ".py",
   "mimetype": "text/x-python",
   "name": "python",
   "nbconvert_exporter": "python",
   "pygments_lexer": "ipython3",
   "version": "3.7.1"
  }
 },
 "nbformat": 4,
 "nbformat_minor": 4
}
